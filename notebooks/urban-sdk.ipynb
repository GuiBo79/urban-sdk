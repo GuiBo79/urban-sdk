{
 "cells": [
  {
   "cell_type": "code",
   "execution_count": 1,
   "id": "483aa1c4-f722-429b-a4a7-d98fa8afbae6",
   "metadata": {},
   "outputs": [],
   "source": [
    "import pandas as pd\n",
    "from sqlalchemy import create_engine\n",
    "from sqlalchemy.types import Float, String, Integer, DateTime\n",
    "from geoalchemy2 import Geometry\n",
    "import json\n",
    "\n",
    "# Database configuration\n",
    "POSTGRES_USER = \"user\"\n",
    "POSTGRES_PASSWORD = \"password\"\n",
    "POSTGRES_DB = \"urban_data\"\n",
    "POSTGRES_HOST = \"postgres\"\n",
    "POSTGRES_PORT = \"5432\"\n",
    "\n",
    "# Create a connection string\n",
    "connection_string = f\"postgresql://{POSTGRES_USER}:{POSTGRES_PASSWORD}@{POSTGRES_HOST}:{POSTGRES_PORT}/{POSTGRES_DB}\"\n",
    "engine = create_engine(connection_string)\n",
    "\n",
    "# Load datasets\n",
    "link_info_path = '/home/jovyan/work/data/link_info.parquet.gz'\n",
    "speed_data_path = '/home/jovyan/work/data/duval_jan1_2024.parquet.gz'\n",
    "\n",
    "link_info_df = pd.read_parquet(link_info_path)\n",
    "speed_data_df = pd.read_parquet(speed_data_path)"
   ]
  },
  {
   "cell_type": "code",
   "execution_count": 2,
   "id": "46d67117-57b2-459f-a829-50dfa9970937",
   "metadata": {},
   "outputs": [],
   "source": [
    "# Define functions to transform data for insertion\n",
    "def transform_link_info(df):\n",
    "    # Ensure geo_json is a valid geometry type for PostGIS\n",
    "    df['geometry'] = df['geo_json'].apply(lambda x: json.dumps(x) if isinstance(x, dict) else x)\n",
    "    return df.drop(columns=['geo_json'])  # Drop the geo_json column after transformation\n",
    "\n",
    "def transform_speed_data(df):\n",
    "    # Ensure date_time is in a DateTime format\n",
    "    df['date_time'] = pd.to_datetime(df['date_time'])\n",
    "    return df\n",
    "\n",
    "# Transform the datasets\n",
    "link_info_df = transform_link_info(link_info_df)\n",
    "speed_data_df = transform_speed_data(speed_data_df)"
   ]
  },
  {
   "cell_type": "code",
   "execution_count": 3,
   "id": "ca50ff4d-155d-4219-92d8-9ccc1a0e40c8",
   "metadata": {},
   "outputs": [
    {
     "name": "stdout",
     "output_type": "stream",
     "text": [
      "Data inserted successfully.\n"
     ]
    }
   ],
   "source": [
    "# Insert data into the existing tables\n",
    "def insert_data(df, table_name):\n",
    "    df.to_sql(table_name, engine, if_exists=\"append\", index=False)\n",
    "\n",
    "# Insert data with transformations applied\n",
    "insert_data(link_info_df, \"link_info\")\n",
    "insert_data(speed_data_df, \"speed_data\")\n",
    "\n",
    "print(\"Data inserted successfully.\")"
   ]
  },
  {
   "cell_type": "code",
   "execution_count": 9,
   "id": "4812ad94-57bf-44f7-a7b5-e195d49c9477",
   "metadata": {},
   "outputs": [
    {
     "data": {
      "text/html": [
       "<div>\n",
       "<style scoped>\n",
       "    .dataframe tbody tr th:only-of-type {\n",
       "        vertical-align: middle;\n",
       "    }\n",
       "\n",
       "    .dataframe tbody tr th {\n",
       "        vertical-align: top;\n",
       "    }\n",
       "\n",
       "    .dataframe thead th {\n",
       "        text-align: right;\n",
       "    }\n",
       "</style>\n",
       "<table border=\"1\" class=\"dataframe\">\n",
       "  <thead>\n",
       "    <tr style=\"text-align: right;\">\n",
       "      <th></th>\n",
       "      <th>link_id</th>\n",
       "      <th>avg_speed</th>\n",
       "      <th>road_name</th>\n",
       "      <th>length</th>\n",
       "      <th>geo_json</th>\n",
       "      <th>period</th>\n",
       "    </tr>\n",
       "  </thead>\n",
       "  <tbody>\n",
       "    <tr>\n",
       "      <th>0</th>\n",
       "      <td>16981048</td>\n",
       "      <td>47.845500</td>\n",
       "      <td>Philips Hwy</td>\n",
       "      <td>0.009320565</td>\n",
       "      <td>{\"type\":\"MultiLineString\",\"coordinates\":[[[-81...</td>\n",
       "      <td>1</td>\n",
       "    </tr>\n",
       "    <tr>\n",
       "      <th>1</th>\n",
       "      <td>16981048</td>\n",
       "      <td>47.804333</td>\n",
       "      <td>Philips Hwy</td>\n",
       "      <td>0.009320565</td>\n",
       "      <td>{\"type\":\"MultiLineString\",\"coordinates\":[[[-81...</td>\n",
       "      <td>2</td>\n",
       "    </tr>\n",
       "    <tr>\n",
       "      <th>2</th>\n",
       "      <td>16981048</td>\n",
       "      <td>45.401333</td>\n",
       "      <td>Philips Hwy</td>\n",
       "      <td>0.009320565</td>\n",
       "      <td>{\"type\":\"MultiLineString\",\"coordinates\":[[[-81...</td>\n",
       "      <td>3</td>\n",
       "    </tr>\n",
       "    <tr>\n",
       "      <th>3</th>\n",
       "      <td>16981048</td>\n",
       "      <td>47.265333</td>\n",
       "      <td>Philips Hwy</td>\n",
       "      <td>0.009320565</td>\n",
       "      <td>{\"type\":\"MultiLineString\",\"coordinates\":[[[-81...</td>\n",
       "      <td>4</td>\n",
       "    </tr>\n",
       "    <tr>\n",
       "      <th>4</th>\n",
       "      <td>16981048</td>\n",
       "      <td>47.970000</td>\n",
       "      <td>Philips Hwy</td>\n",
       "      <td>0.009320565</td>\n",
       "      <td>{\"type\":\"MultiLineString\",\"coordinates\":[[[-81...</td>\n",
       "      <td>5</td>\n",
       "    </tr>\n",
       "  </tbody>\n",
       "</table>\n",
       "</div>"
      ],
      "text/plain": [
       "    link_id  avg_speed    road_name       length  \\\n",
       "0  16981048  47.845500  Philips Hwy  0.009320565   \n",
       "1  16981048  47.804333  Philips Hwy  0.009320565   \n",
       "2  16981048  45.401333  Philips Hwy  0.009320565   \n",
       "3  16981048  47.265333  Philips Hwy  0.009320565   \n",
       "4  16981048  47.970000  Philips Hwy  0.009320565   \n",
       "\n",
       "                                            geo_json  period  \n",
       "0  {\"type\":\"MultiLineString\",\"coordinates\":[[[-81...       1  \n",
       "1  {\"type\":\"MultiLineString\",\"coordinates\":[[[-81...       2  \n",
       "2  {\"type\":\"MultiLineString\",\"coordinates\":[[[-81...       3  \n",
       "3  {\"type\":\"MultiLineString\",\"coordinates\":[[[-81...       4  \n",
       "4  {\"type\":\"MultiLineString\",\"coordinates\":[[[-81...       5  "
      ]
     },
     "execution_count": 9,
     "metadata": {},
     "output_type": "execute_result"
    }
   ],
   "source": [
    "# Query to calculate average speed by link_id, period, and day of the week\n",
    "query = \"\"\"\n",
    "SELECT\n",
    "    s.link_id,\n",
    "    AVG(s.average_speed) AS avg_speed,\n",
    "    l.road_name,\n",
    "    l._length AS length,\n",
    "    l.geometry AS geo_json,\n",
    "    s.period\n",
    "FROM\n",
    "    speed_data s\n",
    "JOIN\n",
    "    link_info l ON s.link_id = l.link_id\n",
    "GROUP BY\n",
    "    s.link_id, s.period, s.day_of_week, l.road_name, l._length, l.geometry\n",
    "\"\"\"\n",
    "\n",
    "# Fetch data into a DataFrame\n",
    "transformed_df = pd.read_sql_query(query, engine)\n",
    "transformed_df.head()"
   ]
  },
  {
   "cell_type": "code",
   "execution_count": 10,
   "id": "c7e2a0fd-7430-4573-8603-a6993e29409a",
   "metadata": {},
   "outputs": [
    {
     "name": "stdout",
     "output_type": "stream",
     "text": [
      "Missing values in each column:\n",
      " link_id          0\n",
      "avg_speed        0\n",
      "road_name    36274\n",
      "length           0\n",
      "geo_json         0\n",
      "period           0\n",
      "dtype: int64\n"
     ]
    }
   ],
   "source": [
    "# Check for missing values\n",
    "missing_values = transformed_df.isnull().sum()\n",
    "print(\"Missing values in each column:\\n\", missing_values)"
   ]
  },
  {
   "cell_type": "code",
   "execution_count": 11,
   "id": "e7a2c2b3-0a44-45a0-8d0f-8c5dc0521ab7",
   "metadata": {},
   "outputs": [
    {
     "name": "stdout",
     "output_type": "stream",
     "text": [
      "period\n",
      "1    29.021914\n",
      "2    35.812333\n",
      "3    32.273701\n",
      "4    28.212232\n",
      "5    26.842923\n",
      "6    26.542830\n",
      "7    27.614424\n",
      "Name: avg_speed, dtype: float64\n"
     ]
    }
   ],
   "source": [
    "# Average speed by period\n",
    "avg_speed_by_period = transformed_df.groupby('period')['avg_speed'].mean()\n",
    "print(avg_speed_by_period)"
   ]
  },
  {
   "cell_type": "code",
   "execution_count": 16,
   "id": "5638a5f3-eb0b-494c-852c-c0c90aa3b3b6",
   "metadata": {},
   "outputs": [
    {
     "data": {
      "text/html": [
       "\n",
       "        <iframe\n",
       "            width=\"700\"\n",
       "            height=\"500\"\n",
       "            src=\"map_visualization.html\"\n",
       "            frameborder=\"0\"\n",
       "            allowfullscreen\n",
       "            \n",
       "        ></iframe>\n",
       "        "
      ],
      "text/plain": [
       "<IPython.lib.display.IFrame at 0xfffeaa2bd790>"
      ]
     },
     "execution_count": 16,
     "metadata": {},
     "output_type": "execute_result"
    }
   ],
   "source": [
    "from mapboxgl.utils import create_color_stops\n",
    "from mapboxgl.viz import ChoroplethViz\n",
    "from IPython.display import IFrame\n",
    "import json\n",
    "\n",
    "# Mapbox token\n",
    "mapbox_token = \"your_mapbox_token_here\"\n",
    "\n",
    "# Convert DataFrame to GeoJSON\n",
    "geojson_data = {\n",
    "    \"type\": \"FeatureCollection\",\n",
    "    \"features\": []\n",
    "}\n",
    "\n",
    "for _, row in transformed_df.iterrows():\n",
    "    feature = {\n",
    "        \"type\": \"Feature\",\n",
    "        \"geometry\": row[\"geo_json\"],  # Assuming geo_json is already in GeoJSON format\n",
    "        \"properties\": {\n",
    "            \"link_id\": row[\"link_id\"],\n",
    "            \"avg_speed\": row[\"avg_speed\"],\n",
    "            \"road_name\": row[\"road_name\"],\n",
    "            \"length\": row[\"length\"]\n",
    "        }\n",
    "    }\n",
    "    geojson_data[\"features\"].append(feature)\n",
    "\n",
    "# Define color stops for visualization\n",
    "color_stops = create_color_stops([20, 40, 60, 80], colors=['blue', 'green', 'yellow', 'red'])\n",
    "\n",
    "# Create the map visualization\n",
    "viz = ChoroplethViz(\n",
    "    geojson_data,\n",
    "    access_token=mapbox_token,\n",
    "    color_property=\"avg_speed\",\n",
    "    color_stops=color_stops,\n",
    "    center=(-81.6556, 30.3322),  # Adjust center based on your data\n",
    "    zoom=10,\n",
    "    line_stroke=\"blue\"\n",
    ")\n",
    "\n",
    "# Save the map visualization to HTML\n",
    "viz.create_html('map_visualization.html')\n",
    "\n",
    "# Display the HTML file in an IFrame\n",
    "IFrame('map_visualization.html', width=700, height=500)\n"
   ]
  },
  {
   "cell_type": "code",
   "execution_count": null,
   "id": "bf534131-01b5-4829-b4ea-814e82148a4c",
   "metadata": {},
   "outputs": [],
   "source": []
  }
 ],
 "metadata": {
  "kernelspec": {
   "display_name": "Python 3 (ipykernel)",
   "language": "python",
   "name": "python3"
  },
  "language_info": {
   "codemirror_mode": {
    "name": "ipython",
    "version": 3
   },
   "file_extension": ".py",
   "mimetype": "text/x-python",
   "name": "python",
   "nbconvert_exporter": "python",
   "pygments_lexer": "ipython3",
   "version": "3.11.6"
  }
 },
 "nbformat": 4,
 "nbformat_minor": 5
}
