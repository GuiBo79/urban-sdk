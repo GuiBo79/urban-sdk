{
 "cells": [
  {
   "cell_type": "code",
   "execution_count": 1,
   "id": "483aa1c4-f722-429b-a4a7-d98fa8afbae6",
   "metadata": {},
   "outputs": [],
   "source": [
    "import pandas as pd\n",
    "from sqlalchemy import create_engine\n",
    "from sqlalchemy.types import Float, String, Integer, DateTime\n",
    "from geoalchemy2 import Geometry\n",
    "import requests\n",
    "import json\n",
    "\n",
    "# Database configuration\n",
    "POSTGRES_USER = \"user\"\n",
    "POSTGRES_PASSWORD = \"password\"\n",
    "POSTGRES_DB = \"urban_data\"\n",
    "POSTGRES_HOST = \"postgres\"\n",
    "POSTGRES_PORT = \"5432\"\n",
    "\n",
    "# Create a connection string\n",
    "connection_string = f\"postgresql://{POSTGRES_USER}:{POSTGRES_PASSWORD}@{POSTGRES_HOST}:{POSTGRES_PORT}/{POSTGRES_DB}\"\n",
    "engine = create_engine(connection_string)\n",
    "\n",
    "# Load datasets\n",
    "link_info_path = '/home/jovyan/work/data/link_info.parquet.gz'\n",
    "speed_data_path = '/home/jovyan/work/data/duval_jan1_2024.parquet.gz'\n",
    "link_info_url = 'https://cdn.urbansdk.com/data-engineering-interview/link_info.parquet.gz'\n",
    "speed_data_url = 'https://cdn.urbansdk.com/data-engineering-interview/duval_jan1_2024.parquet.gz'\n",
    "\n",
    "# Download dataset func\n",
    "def download_file(url, local_path):\n",
    "    response = requests.get(url)\n",
    "    response.raise_for_status() \n",
    "    with open(local_path, 'wb') as file:\n",
    "        file.write(response.content)\n",
    "\n",
    "# Fazer o download dos arquivos\n",
    "download_file(link_info_url, link_info_path)\n",
    "download_file(speed_data_url, speed_data_path)\n",
    "\n",
    "link_info_df = pd.read_parquet(link_info_path)\n",
    "speed_data_df = pd.read_parquet(speed_data_path)"
   ]
  },
  {
   "cell_type": "code",
   "execution_count": 2,
   "id": "46d67117-57b2-459f-a829-50dfa9970937",
   "metadata": {},
   "outputs": [],
   "source": [
    "# Define functions to transform data for insertion\n",
    "def transform_link_info(df):\n",
    "    # Ensure geo_json is a valid geometry type for PostGIS\n",
    "    df['geometry'] = df['geo_json'].apply(lambda x: json.dumps(x) if isinstance(x, dict) else x)\n",
    "    return df.drop(columns=['geo_json'])  # Drop the geo_json column after transformation\n",
    "\n",
    "def transform_speed_data(df):\n",
    "    # Ensure date_time is in a DateTime format\n",
    "    df['date_time'] = pd.to_datetime(df['date_time'])\n",
    "    return df\n",
    "\n",
    "# Transform the datasets\n",
    "link_info_df = transform_link_info(link_info_df)\n",
    "speed_data_df = transform_speed_data(speed_data_df)"
   ]
  },
  {
   "cell_type": "code",
   "execution_count": null,
   "id": "ca50ff4d-155d-4219-92d8-9ccc1a0e40c8",
   "metadata": {},
   "outputs": [],
   "source": [
    "# Insert data into the existing tables\n",
    "def insert_data(df, table_name):\n",
    "    df.to_sql(table_name, engine, if_exists=\"append\", index=False)\n",
    "\n",
    "# Insert data with transformations applied\n",
    "insert_data(link_info_df, \"link_info\")\n",
    "insert_data(speed_data_df, \"speed_data\")\n",
    "\n",
    "print(\"Data inserted successfully.\")"
   ]
  },
  {
   "cell_type": "code",
   "execution_count": null,
   "id": "83fef2b2-d22d-41d3-a20a-3afd98497efb",
   "metadata": {},
   "outputs": [],
   "source": [
    "# Load data into DataFrames\n",
    "link_info_df = pd.read_sql_table(\"link_info\", engine)\n",
    "speed_data_df = pd.read_sql_table(\"speed_data\", engine)\n",
    "\n",
    "# Check the first few rows and data types\n",
    "print(\"Link Info Data:\")\n",
    "display(link_info_df.head())\n",
    "print(\"Speed Data:\")\n",
    "display(speed_data_df.head())\n",
    "\n",
    "# Summary statistics\n",
    "print(\"Summary Statistics - Link Info Data:\")\n",
    "display(link_info_df.describe())\n",
    "print(\"Summary Statistics - Speed Data:\")\n",
    "display(speed_data_df.describe())"
   ]
  },
  {
   "cell_type": "code",
   "execution_count": null,
   "id": "b144202f-3493-4793-9b8a-65b0a76bc700",
   "metadata": {},
   "outputs": [],
   "source": [
    "# Check for missing values\n",
    "print(\"Missing values in Link Info Data:\")\n",
    "print(link_info_df.isnull().sum())\n",
    "print(\"Missing values in Speed Data:\")\n",
    "print(speed_data_df.isnull().sum())\n"
   ]
  },
  {
   "cell_type": "code",
   "execution_count": null,
   "id": "7d6cfbe6-9e03-43d8-bfe0-454ce21beeab",
   "metadata": {},
   "outputs": [],
   "source": [
    "# Query to calculate average speed by link_id, period, and day of the week\n",
    "query = \"\"\"\n",
    "SELECT\n",
    "    s.link_id,\n",
    "    AVG(s.average_speed) AS avg_speed,\n",
    "    l.road_name,\n",
    "    l._length AS length,\n",
    "    l.geometry AS geo_json,\n",
    "    s.period\n",
    "FROM\n",
    "    speed_data s\n",
    "JOIN\n",
    "    link_info l ON s.link_id = l.link_id\n",
    "GROUP BY\n",
    "    s.link_id, s.period, s.day_of_week, l.road_name, l._length, l.geometry\n",
    "\"\"\"\n",
    "\n",
    "# Fetch data into a DataFrame\n",
    "transformed_df = pd.read_sql_query(query, engine)\n",
    "transformed_df.head()"
   ]
  },
  {
   "cell_type": "code",
   "execution_count": null,
   "id": "da7b12ab-64eb-46d9-b645-e7c2879cd8d6",
   "metadata": {},
   "outputs": [],
   "source": [
    "import matplotlib.pyplot as plt\n",
    "import seaborn as sns\n",
    "\n",
    "# Average speed by day of the week\n",
    "plt.figure(figsize=(10, 6))\n",
    "sns.boxplot(data=transformed_df, x=\"period\", y=\"avg_speed\")\n",
    "plt.title(\"Distribution of Average Speeds by Time Period\")\n",
    "plt.xlabel(\"Period\")\n",
    "plt.ylabel(\"Average Speed\")\n",
    "plt.show()\n",
    "\n",
    "# Average speed by link and period\n",
    "avg_speed_by_link = transformed_df.groupby(\"link_id\")[\"avg_speed\"].mean()\n",
    "plt.figure(figsize=(12, 6))\n",
    "avg_speed_by_link.plot(kind=\"hist\", bins=30)\n",
    "plt.title(\"Distribution of Average Speeds across Links\")\n",
    "plt.xlabel(\"Average Speed\")\n",
    "plt.ylabel(\"Frequency\")\n",
    "plt.show()\n"
   ]
  },
  {
   "cell_type": "code",
   "execution_count": null,
   "id": "7553a848-6e8b-4e8a-98f0-11bf9d7ed2c9",
   "metadata": {},
   "outputs": [],
   "source": [
    "from shapely import wkb\n",
    "\n",
    "# Extract coordinates for spatial analysis\n",
    "transformed_df['coordinates'] = transformed_df['geo_json'].apply(lambda x: wkb.loads(bytes(x.data)).coords[:])\n",
    "\n",
    "# Convert multiline coordinates to representative centroids for simplicity\n",
    "transformed_df['longitude'] = transformed_df['coordinates'].apply(lambda x: x[0][0] if x else None)\n",
    "transformed_df['latitude'] = transformed_df['coordinates'].apply(lambda x: x[0][1] if x else None)\n",
    "\n",
    "# Scatter plot of locations colored by average speed\n",
    "plt.figure(figsize=(10, 8))\n",
    "sns.scatterplot(data=transformed_df, x=\"longitude\", y=\"latitude\", hue=\"avg_speed\", palette=\"coolwarm\", size=\"avg_speed\")\n",
    "plt.title(\"Spatial Distribution of Links by Average Speed\")\n",
    "plt.xlabel(\"Longitude\")\n",
    "plt.ylabel(\"Latitude\")\n",
    "plt.show()\n"
   ]
  },
  {
   "cell_type": "code",
   "execution_count": null,
   "id": "4812ad94-57bf-44f7-a7b5-e195d49c9477",
   "metadata": {},
   "outputs": [],
   "source": []
  },
  {
   "cell_type": "code",
   "execution_count": null,
   "id": "c7e2a0fd-7430-4573-8603-a6993e29409a",
   "metadata": {},
   "outputs": [],
   "source": [
    "# Check for missing values\n",
    "missing_values = transformed_df.isnull().sum()\n",
    "print(\"Missing values in each column:\\n\", missing_values)"
   ]
  },
  {
   "cell_type": "code",
   "execution_count": null,
   "id": "e7a2c2b3-0a44-45a0-8d0f-8c5dc0521ab7",
   "metadata": {},
   "outputs": [],
   "source": [
    "# Average speed by period\n",
    "avg_speed_by_period = transformed_df.groupby('period')['avg_speed'].mean()\n",
    "print(avg_speed_by_period)"
   ]
  },
  {
   "cell_type": "code",
   "execution_count": null,
   "id": "5638a5f3-eb0b-494c-852c-c0c90aa3b3b6",
   "metadata": {
    "scrolled": true
   },
   "outputs": [],
   "source": [
    "from mapboxgl.utils import create_color_stops\n",
    "from mapboxgl.viz import ChoroplethViz\n",
    "from IPython.display import IFrame\n",
    "import json\n",
    "\n",
    "# Mapbox token\n",
    "mapbox_token = \"pk.eyJ1IjoiZ3VpYm9ydG9sYXNvIiwiYSI6ImNtMndoajR4czA2d2sybXB0enNhc2dtcjAifQ.PHvelUdPZ4tW7WQL0fvNmQ\"\n",
    "\n",
    "# Convert DataFrame to GeoJSON\n",
    "geojson_data = {\n",
    "    \"type\": \"FeatureCollection\",\n",
    "    \"features\": []\n",
    "}\n",
    "\n",
    "for _, row in transformed_df.iterrows():\n",
    "    feature = {\n",
    "        \"type\": \"Feature\",\n",
    "        \"geometry\": row[\"geo_json\"],  # Assuming geo_json is already in GeoJSON format\n",
    "        \"properties\": {\n",
    "            \"link_id\": row[\"link_id\"],\n",
    "            \"avg_speed\": row[\"avg_speed\"],\n",
    "            \"road_name\": row[\"road_name\"],\n",
    "            \"length\": row[\"length\"]\n",
    "        }\n",
    "    }\n",
    "    geojson_data[\"features\"].append(feature)\n",
    "\n",
    "# Define color stops for visualization\n",
    "color_stops = create_color_stops([20, 40, 60, 80], colors=['blue', 'green', 'yellow', 'red'])\n",
    "\n",
    "# Create the map visualization\n",
    "viz = ChoroplethViz(\n",
    "    geojson_data,\n",
    "    access_token=mapbox_token,\n",
    "    color_property=\"avg_speed\",\n",
    "    color_stops=color_stops,\n",
    "    center=(-81.6556, 30.3322), \n",
    "    zoom=10,\n",
    "    line_stroke=\"blue\"\n",
    ")\n",
    "\n",
    "# Save the map visualization to HTML\n",
    "viz.create_html('map_visualization.html')\n",
    "\n",
    "# Display the HTML file in an IFrame\n",
    "IFrame('map_visualization.html', width=700, height=500)\n"
   ]
  },
  {
   "cell_type": "code",
   "execution_count": null,
   "id": "bf534131-01b5-4829-b4ea-814e82148a4c",
   "metadata": {},
   "outputs": [],
   "source": [
    "geojson_data\n"
   ]
  },
  {
   "cell_type": "code",
   "execution_count": null,
   "id": "c356e34c-d2cc-41e8-aa46-ad7ab4e2c1d9",
   "metadata": {},
   "outputs": [],
   "source": []
  }
 ],
 "metadata": {
  "kernelspec": {
   "display_name": "Python 3 (ipykernel)",
   "language": "python",
   "name": "python3"
  },
  "language_info": {
   "codemirror_mode": {
    "name": "ipython",
    "version": 3
   },
   "file_extension": ".py",
   "mimetype": "text/x-python",
   "name": "python",
   "nbconvert_exporter": "python",
   "pygments_lexer": "ipython3",
   "version": "3.11.6"
  }
 },
 "nbformat": 4,
 "nbformat_minor": 5
}
